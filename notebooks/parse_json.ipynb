{
 "cells": [
  {
   "attachments": {},
   "cell_type": "markdown",
   "metadata": {},
   "source": [
    "# Parsing JSON\n",
    "\n",
    "Python has a lot of options for parsing GeoJSON data.  In almost all cases, the encoded string must be loaded into memory in its entirity for the parser to work on it. In our case, this could be quite a large chunk of data.  \n",
    "\n",
    "The alternatie is to use `ijson`, which will parse as data is read and produce items from the JSON using Python iterators."
   ]
  },
  {
   "cell_type": "code",
   "execution_count": 8,
   "metadata": {},
   "outputs": [
    {
     "name": "stdout",
     "output_type": "stream",
     "text": [
      "......................................................................"
     ]
    }
   ],
   "source": [
    "import ijson\n",
    "\n",
    "try:\n",
    "    with open(\"../CrawlerData_10_xi98wn1_.geojson\", \"r\") as fh:\n",
    "        count=1\n",
    "        for  itm in ijson.items(fh, 'features.item'):\n",
    "            print(\".\", end=\"\")\n",
    "            count+=1\n",
    "            if count % 120 == 0:\n",
    "                print(\" \")\n",
    "except ijson.JSONError:\n",
    "    print(\"\\nDone.\\n\")"
   ]
  },
  {
   "cell_type": "code",
   "execution_count": 9,
   "metadata": {},
   "outputs": [
    {
     "data": {
      "text/plain": [
       "71"
      ]
     },
     "execution_count": 9,
     "metadata": {},
     "output_type": "execute_result"
    }
   ],
   "source": [
    "count"
   ]
  },
  {
   "cell_type": "code",
   "execution_count": null,
   "metadata": {},
   "outputs": [],
   "source": []
  }
 ],
 "metadata": {
  "kernelspec": {
   "display_name": "nldi-crawler-AikWVh81-py3.9",
   "language": "python",
   "name": "python3"
  },
  "language_info": {
   "codemirror_mode": {
    "name": "ipython",
    "version": 3
   },
   "file_extension": ".py",
   "mimetype": "text/x-python",
   "name": "python",
   "nbconvert_exporter": "python",
   "pygments_lexer": "ipython3",
   "version": "3.9.16"
  },
  "orig_nbformat": 4,
  "vscode": {
   "interpreter": {
    "hash": "f23894094ed0d11a7fc7109fb6d8f7d7139f748cdac66a6988117f0bc49a024e"
   }
  }
 },
 "nbformat": 4,
 "nbformat_minor": 2
}
